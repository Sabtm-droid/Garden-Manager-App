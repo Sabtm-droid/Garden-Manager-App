{
 "cells": [
  {
   "cell_type": "code",
   "execution_count": null,
   "id": "0b9d0d67-d4a5-4d71-be24-b701179e33ae",
   "metadata": {},
   "outputs": [],
   "source": []
  }
 ],
 "metadata": {
  "kernelspec": {
   "display_name": "Python 3 (ipykernel)",
   "language": "python",
   "name": "python3"
  },
  "language_info": {
   "name": ""
  }
 },
 "nbformat": 4,
 "nbformat_minor": 5
}
