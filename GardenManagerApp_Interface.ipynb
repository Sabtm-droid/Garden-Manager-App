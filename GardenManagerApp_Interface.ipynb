{
 "cells": [
  {
   "cell_type": "markdown",
   "id": "cf3aadd7-20f7-4018-8765-b5ed22e4d75f",
   "metadata": {},
   "source": [
    "# 🌿 2. Plant Care Tracker\n",
    "\n",
    "## 📝 Overview\n",
    "This is a Python application to help houseplant enthusiasts manage their plant collection and care schedules. This allows you to track and easy access to your plants data.\n",
    "\n",
    "## 🌱 Key Features\n",
    "\n",
    "- **Add new plants** with details like name, location, date acquired, watering frequency, and sunlight needs  \n",
    "- **Track care activities** such as watering, fertilizing, pruning, or repotting  \n",
    "- **View plants due for care**, based on their watering schedule  \n",
    "- **Search plants** by name or location  \n",
    "- **Display all saved plants** and their care information\n",
    "- **Diagnose plants problems** based on the given symptoms\n",
    "- **Seasonal care schedule** sends reminders based on plant's type and seasonal change\n"
   ]
  },
  {
   "cell_type": "code",
   "execution_count": 1,
   "id": "296c8838-47ae-4279-b82f-92f2a8c79d6f",
   "metadata": {},
   "outputs": [],
   "source": [
    "import Garden_Manager_App"
   ]
  },
  {
   "cell_type": "code",
   "execution_count": 2,
   "id": "7cb27933-c0d3-40d0-bbf2-6bcf08bc3e67",
   "metadata": {},
   "outputs": [
    {
     "name": "stdout",
     "output_type": "stream",
     "text": [
      "Welcome to Garaden Manegar!\n",
      "This app helps you plant and maintain your garden plants.\n",
      "\n",
      "=== Garaden Manegar ===\n",
      "1. Add a new plant to the collection\n",
      "2. Record a plant care activity\n",
      "3. View plants due for care\n",
      "4. Search plants by name or location\n",
      "5. View all plants\n",
      "6. Exit\n"
     ]
    },
    {
     "name": "stdin",
     "output_type": "stream",
     "text": [
      "\n",
      "Enter your choice (1-6):  1\n",
      "Enter the plant's name/species:  Rose\n",
      "Enter the plant's location:  window\n",
      "Enter the Date (YYYY-MM-DD), or press Enter for today:  \n",
      "Enter the watering frequency (per day):  1\n",
      "Enter the sunlight needs (Low, Medium, High):  Medium\n"
     ]
    },
    {
     "name": "stdout",
     "output_type": "stream",
     "text": [
      "\u001b[1;32;48m Your plant has been added successfully!\u001b[0m\n",
      "\n",
      "=== Garaden Manegar ===\n",
      "1. Add a new plant to the collection\n",
      "2. Record a plant care activity\n",
      "3. View plants due for care\n",
      "4. Search plants by name or location\n",
      "5. View all plants\n",
      "6. Exit\n"
     ]
    },
    {
     "name": "stdin",
     "output_type": "stream",
     "text": [
      "\n",
      "Enter your choice (1-6):  7\n"
     ]
    },
    {
     "name": "stdout",
     "output_type": "stream",
     "text": [
      "\n",
      "Invalid choice. Please enter a number between 1 and 5.\n",
      "\n",
      "=== Garaden Manegar ===\n",
      "1. Add a new plant to the collection\n",
      "2. Record a plant care activity\n",
      "3. View plants due for care\n",
      "4. Search plants by name or location\n",
      "5. View all plants\n",
      "6. Exit\n"
     ]
    },
    {
     "name": "stdin",
     "output_type": "stream",
     "text": [
      "\n",
      "Enter your choice (1-6):  1\n",
      "Enter the plant's name/species:  dd\n",
      "Enter the plant's location:  l\n",
      "Enter the Date (YYYY-MM-DD), or press Enter for today:  ok\n"
     ]
    },
    {
     "name": "stdout",
     "output_type": "stream",
     "text": [
      "\u001b[1;31;48m ERROR: Invalid date format! Please use YYYY-MM-DD.\u001b[0m\n"
     ]
    },
    {
     "name": "stdin",
     "output_type": "stream",
     "text": [
      "Enter the Date (YYYY-MM-DD), or press Enter for today:  \n",
      "Enter the watering frequency (per day):  u\n"
     ]
    },
    {
     "name": "stdout",
     "output_type": "stream",
     "text": [
      "\u001b[1;31;48m ERROR: Enter a valid number!\u001b[0m\n"
     ]
    },
    {
     "name": "stdin",
     "output_type": "stream",
     "text": [
      "Enter the watering frequency (per day):  4\n",
      "Enter the sunlight needs (Low, Medium, High):  pp\n"
     ]
    },
    {
     "name": "stdout",
     "output_type": "stream",
     "text": [
      "\u001b[1;31;48m ERROR: Please choose from: (Low, Medium, High).\u001b[0m\n"
     ]
    },
    {
     "name": "stdin",
     "output_type": "stream",
     "text": [
      "Enter the sunlight needs (Low, Medium, High):  s\n"
     ]
    },
    {
     "name": "stdout",
     "output_type": "stream",
     "text": [
      "\u001b[1;31;48m ERROR: Please choose from: (Low, Medium, High).\u001b[0m\n"
     ]
    },
    {
     "name": "stdin",
     "output_type": "stream",
     "text": [
      "Enter the sunlight needs (Low, Medium, High):  s\n"
     ]
    },
    {
     "name": "stdout",
     "output_type": "stream",
     "text": [
      "\u001b[1;31;48m ERROR: Please choose from: (Low, Medium, High).\u001b[0m\n"
     ]
    },
    {
     "name": "stdin",
     "output_type": "stream",
     "text": [
      "Enter the sunlight needs (Low, Medium, High):  low\n"
     ]
    },
    {
     "name": "stdout",
     "output_type": "stream",
     "text": [
      "\u001b[1;32;48m Your plant has been added successfully!\u001b[0m\n",
      "\n",
      "=== Garaden Manegar ===\n",
      "1. Add a new plant to the collection\n",
      "2. Record a plant care activity\n",
      "3. View plants due for care\n",
      "4. Search plants by name or location\n",
      "5. View all plants\n",
      "6. Exit\n"
     ]
    },
    {
     "name": "stdin",
     "output_type": "stream",
     "text": [
      "\n",
      "Enter your choice (1-6):  6\n"
     ]
    },
    {
     "name": "stdout",
     "output_type": "stream",
     "text": [
      "\n",
      "Thank you for using Garaden Manegar. Goodbye!\n"
     ]
    }
   ],
   "source": [
    "Garden_Manager_App.main()"
   ]
  }
 ],
 "metadata": {
  "kernelspec": {
   "display_name": "Python 3 (ipykernel)",
   "language": "python",
   "name": "python3"
  },
  "language_info": {
   "codemirror_mode": {
    "name": "ipython",
    "version": 3
   },
   "file_extension": ".py",
   "mimetype": "text/x-python",
   "name": "python",
   "nbconvert_exporter": "python",
   "pygments_lexer": "ipython3",
   "version": "3.12.10"
  }
 },
 "nbformat": 4,
 "nbformat_minor": 5
}
