{
 "cells": [
  {
   "cell_type": "code",
   "execution_count": 1,
   "id": "0b9d0d67-d4a5-4d71-be24-b701179e33ae",
   "metadata": {},
   "outputs": [],
   "source": [
    "import Garden_Manager_App"
   ]
  },
  {
   "cell_type": "code",
   "execution_count": 2,
   "id": "7cb27933-c0d3-40d0-bbf2-6bcf08bc3e67",
   "metadata": {},
   "outputs": [
    {
     "name": "stdout",
     "output_type": "stream",
     "text": [
      "Welcome to Garaden Manegar!\n",
      "This app helps you plant and maintain your garden plants.\n",
      "\n",
      "=== Garaden Manegar ===\n",
      "1. Add a new plant to the collection\n",
      "2. Record a plant care activity\n",
      "3. View plants due for care\n",
      "4. Search plants by name or location\n",
      "5. View all plants\n",
      "6. Exit\n"
     ]
    },
    {
     "name": "stdin",
     "output_type": "stream",
     "text": [
      "\n",
      "Enter your choice (1-6):  1\n",
      "Enter the plant's name/species:  Rose\n",
      "Enter the plant's location:  window\n",
      "Enter the Date (YYYY-MM-DD), or press Enter for today:  \n",
      "Enter the watering frequency (per day):  1\n",
      "Enter the sunlight needs (Low, Medium, High):  Medium\n"
     ]
    },
    {
     "name": "stdout",
     "output_type": "stream",
     "text": [
      "\u001b[1;32;48m Your plant has been added successfully!\u001b[0m\n",
      "\n",
      "=== Garaden Manegar ===\n",
      "1. Add a new plant to the collection\n",
      "2. Record a plant care activity\n",
      "3. View plants due for care\n",
      "4. Search plants by name or location\n",
      "5. View all plants\n",
      "6. Exit\n"
     ]
    },
    {
     "name": "stdin",
     "output_type": "stream",
     "text": [
      "\n",
      "Enter your choice (1-6):  7\n"
     ]
    },
    {
     "name": "stdout",
     "output_type": "stream",
     "text": [
      "\n",
      "Invalid choice. Please enter a number between 1 and 5.\n",
      "\n",
      "=== Garaden Manegar ===\n",
      "1. Add a new plant to the collection\n",
      "2. Record a plant care activity\n",
      "3. View plants due for care\n",
      "4. Search plants by name or location\n",
      "5. View all plants\n",
      "6. Exit\n"
     ]
    },
    {
     "name": "stdin",
     "output_type": "stream",
     "text": [
      "\n",
      "Enter your choice (1-6):  1\n",
      "Enter the plant's name/species:  dd\n",
      "Enter the plant's location:  l\n",
      "Enter the Date (YYYY-MM-DD), or press Enter for today:  ok\n"
     ]
    },
    {
     "name": "stdout",
     "output_type": "stream",
     "text": [
      "\u001b[1;31;48m ERROR: Invalid date format! Please use YYYY-MM-DD.\u001b[0m\n"
     ]
    },
    {
     "name": "stdin",
     "output_type": "stream",
     "text": [
      "Enter the Date (YYYY-MM-DD), or press Enter for today:  \n",
      "Enter the watering frequency (per day):  u\n"
     ]
    },
    {
     "name": "stdout",
     "output_type": "stream",
     "text": [
      "\u001b[1;31;48m ERROR: Enter a valid number!\u001b[0m\n"
     ]
    },
    {
     "name": "stdin",
     "output_type": "stream",
     "text": [
      "Enter the watering frequency (per day):  4\n",
      "Enter the sunlight needs (Low, Medium, High):  pp\n"
     ]
    },
    {
     "name": "stdout",
     "output_type": "stream",
     "text": [
      "\u001b[1;31;48m ERROR: Please choose from: (Low, Medium, High).\u001b[0m\n"
     ]
    },
    {
     "name": "stdin",
     "output_type": "stream",
     "text": [
      "Enter the sunlight needs (Low, Medium, High):  s\n"
     ]
    },
    {
     "name": "stdout",
     "output_type": "stream",
     "text": [
      "\u001b[1;31;48m ERROR: Please choose from: (Low, Medium, High).\u001b[0m\n"
     ]
    },
    {
     "name": "stdin",
     "output_type": "stream",
     "text": [
      "Enter the sunlight needs (Low, Medium, High):  s\n"
     ]
    },
    {
     "name": "stdout",
     "output_type": "stream",
     "text": [
      "\u001b[1;31;48m ERROR: Please choose from: (Low, Medium, High).\u001b[0m\n"
     ]
    },
    {
     "name": "stdin",
     "output_type": "stream",
     "text": [
      "Enter the sunlight needs (Low, Medium, High):  low\n"
     ]
    },
    {
     "name": "stdout",
     "output_type": "stream",
     "text": [
      "\u001b[1;32;48m Your plant has been added successfully!\u001b[0m\n",
      "\n",
      "=== Garaden Manegar ===\n",
      "1. Add a new plant to the collection\n",
      "2. Record a plant care activity\n",
      "3. View plants due for care\n",
      "4. Search plants by name or location\n",
      "5. View all plants\n",
      "6. Exit\n"
     ]
    },
    {
     "name": "stdin",
     "output_type": "stream",
     "text": [
      "\n",
      "Enter your choice (1-6):  6\n"
     ]
    },
    {
     "name": "stdout",
     "output_type": "stream",
     "text": [
      "\n",
      "Thank you for using Garaden Manegar. Goodbye!\n"
     ]
    }
   ],
   "source": [
    "Garden_Manager_App.main()"
   ]
  },
  {
   "cell_type": "code",
   "execution_count": null,
   "id": "2bc72fb8-9211-4609-8fca-72c3842f3bce",
   "metadata": {},
   "outputs": [],
   "source": []
  }
 ],
 "metadata": {
  "kernelspec": {
   "display_name": "Python 3 (ipykernel)",
   "language": "python",
   "name": "python3"
  },
  "language_info": {
   "codemirror_mode": {
    "name": "ipython",
    "version": 3
   },
   "file_extension": ".py",
   "mimetype": "text/x-python",
   "name": "python",
   "nbconvert_exporter": "python",
   "pygments_lexer": "ipython3",
   "version": "3.12.10"
  }
 },
 "nbformat": 4,
 "nbformat_minor": 5
}
