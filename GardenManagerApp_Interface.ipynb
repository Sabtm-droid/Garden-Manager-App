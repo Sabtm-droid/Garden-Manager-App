{
 "cells": [
  {
   "cell_type": "code",
   "execution_count": 1,
   "id": "0b9d0d67-d4a5-4d71-be24-b701179e33ae",
   "metadata": {},
   "outputs": [],
   "source": [
    "import Garden_Manager_App"
   ]
  },
  {
   "cell_type": "code",
   "execution_count": null,
   "id": "7cb27933-c0d3-40d0-bbf2-6bcf08bc3e67",
   "metadata": {},
   "outputs": [
    {
     "name": "stdout",
     "output_type": "stream",
     "text": [
      "Welcome to Garaden Manegar!\n",
      "This app helps you plant and maintain your garden plants.\n",
      "\n",
      "=== Garaden Manegar ===\n",
      "1. Add a new plant to the collection\n",
      "2. Record a plant care activity\n",
      "3. View plants due for care\n",
      "4. Search plants by name or location\n",
      "5. View all plants\n",
      "6. Exit\n"
     ]
    }
   ],
   "source": [
    "Garden_Manager_App.main()"
   ]
  },
  {
   "cell_type": "code",
   "execution_count": null,
   "id": "0e61813a-b944-4dea-b6e3-d544d96d95bc",
   "metadata": {},
   "outputs": [],
   "source": []
  }
 ],
 "metadata": {
  "kernelspec": {
   "display_name": "Python 3 (ipykernel)",
   "language": "python",
   "name": "python3"
  },
  "language_info": {
   "codemirror_mode": {
    "name": "ipython",
    "version": 3
   },
   "file_extension": ".py",
   "mimetype": "text/x-python",
   "name": "python",
   "nbconvert_exporter": "python",
   "pygments_lexer": "ipython3",
   "version": "3.12.10"
  }
 },
 "nbformat": 4,
 "nbformat_minor": 5
}
